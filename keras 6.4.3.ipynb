{
 "cells": [
  {
   "cell_type": "code",
   "execution_count": 1,
   "metadata": {},
   "outputs": [
    {
     "name": "stderr",
     "output_type": "stream",
     "text": [
      "Using TensorFlow backend.\n"
     ]
    }
   ],
   "source": [
    "from keras.datasets import imdb\n",
    "from keras.preprocessing import sequence\n",
    "max_features=10000\n",
    "max_len=500"
   ]
  },
  {
   "cell_type": "code",
   "execution_count": 4,
   "metadata": {},
   "outputs": [],
   "source": [
    "(x_train,y_train),(x_test,y_test)=imdb.load_data(num_words=max_features)\n",
    "x_train=sequence.pad_sequences(x_train,maxlen=max_len)\n",
    "x_test=sequence.pad_sequences(x_test,maxlen=max_len)"
   ]
  },
  {
   "cell_type": "code",
   "execution_count": 11,
   "metadata": {},
   "outputs": [
    {
     "name": "stdout",
     "output_type": "stream",
     "text": [
      "Model: \"sequential_3\"\n",
      "_________________________________________________________________\n",
      "Layer (type)                 Output Shape              Param #   \n",
      "=================================================================\n",
      "embedding_3 (Embedding)      (None, 500, 128)          1280000   \n",
      "_________________________________________________________________\n",
      "conv1d_5 (Conv1D)            (None, 494, 32)           28704     \n",
      "_________________________________________________________________\n",
      "max_pooling1d_3 (MaxPooling1 (None, 98, 32)            0         \n",
      "_________________________________________________________________\n",
      "conv1d_6 (Conv1D)            (None, 92, 32)            7200      \n",
      "_________________________________________________________________\n",
      "global_max_pooling1d_3 (Glob (None, 32)                0         \n",
      "_________________________________________________________________\n",
      "dense_3 (Dense)              (None, 1)                 33        \n",
      "=================================================================\n",
      "Total params: 1,315,937\n",
      "Trainable params: 1,315,937\n",
      "Non-trainable params: 0\n",
      "_________________________________________________________________\n"
     ]
    },
    {
     "name": "stderr",
     "output_type": "stream",
     "text": [
      "D:\\anaconda\\lib\\site-packages\\tensorflow_core\\python\\framework\\indexed_slices.py:424: UserWarning: Converting sparse IndexedSlices to a dense Tensor of unknown shape. This may consume a large amount of memory.\n",
      "  \"Converting sparse IndexedSlices to a dense Tensor of unknown shape. \"\n"
     ]
    },
    {
     "name": "stdout",
     "output_type": "stream",
     "text": [
      "Train on 20000 samples, validate on 5000 samples\n",
      "Epoch 1/10\n",
      "20000/20000 [==============================] - 58s 3ms/step - loss: 0.8444 - acc: 0.5199 - val_loss: 0.6847 - val_acc: 0.5920\n",
      "Epoch 2/10\n",
      "20000/20000 [==============================] - 58s 3ms/step - loss: 0.6640 - acc: 0.6716 - val_loss: 0.6587 - val_acc: 0.6820\n",
      "Epoch 3/10\n",
      "20000/20000 [==============================] - 65s 3ms/step - loss: 0.6131 - acc: 0.7743 - val_loss: 0.5957 - val_acc: 0.7494\n",
      "Epoch 4/10\n",
      "20000/20000 [==============================] - 63s 3ms/step - loss: 0.5057 - acc: 0.8199 - val_loss: 0.4633 - val_acc: 0.8108\n",
      "Epoch 5/10\n",
      "20000/20000 [==============================] - 60s 3ms/step - loss: 0.3892 - acc: 0.8544 - val_loss: 0.4107 - val_acc: 0.8348\n",
      "Epoch 6/10\n",
      "20000/20000 [==============================] - 60s 3ms/step - loss: 0.3293 - acc: 0.8702 - val_loss: 0.4142 - val_acc: 0.8332\n",
      "Epoch 7/10\n",
      "20000/20000 [==============================] - 60s 3ms/step - loss: 0.2897 - acc: 0.8656 - val_loss: 0.3942 - val_acc: 0.8234\n",
      "Epoch 8/10\n",
      "20000/20000 [==============================] - 60s 3ms/step - loss: 0.2609 - acc: 0.8463 - val_loss: 0.4033 - val_acc: 0.7976\n",
      "Epoch 9/10\n",
      "20000/20000 [==============================] - 67s 3ms/step - loss: 0.2328 - acc: 0.8331 - val_loss: 0.4162 - val_acc: 0.7856\n",
      "Epoch 10/10\n",
      "20000/20000 [==============================] - 66s 3ms/step - loss: 0.2151 - acc: 0.8093 - val_loss: 0.4407 - val_acc: 0.7552\n"
     ]
    }
   ],
   "source": [
    "from keras.models import Sequential\n",
    "from keras import layers\n",
    "from keras.optimizers import RMSprop\n",
    "\n",
    "model=Sequential()\n",
    "model.add(layers.Embedding(max_features,128,input_length=max_len))\n",
    "model.add(layers.Conv1D(32,7,activation='relu'))\n",
    "model.add(layers.MaxPooling1D(5))\n",
    "model.add(layers.Conv1D(32,7,activation='relu'))\n",
    "model.add(layers.GlobalMaxPooling1D())\n",
    "model.add(layers.Dense(1))\n",
    "\n",
    "model.summary()\n",
    "\n",
    "model.compile(optimizer=RMSprop(lr=1e-4),loss='binary_crossentropy',metrics=['acc'])\n",
    "history=model.fit(x_train,y_train,epochs=10,batch_size=128,validation_split=0.2)"
   ]
  },
  {
   "cell_type": "code",
   "execution_count": 14,
   "metadata": {},
   "outputs": [],
   "source": [
    "import matplotlib.pyplot as plt"
   ]
  },
  {
   "cell_type": "code",
   "execution_count": 15,
   "metadata": {},
   "outputs": [
    {
     "data": {
      "image/png": "[encoded data removed]",
      "text/plain": [
       "<Figure size 432x288 with 1 Axes>"
      ]
     },
     "metadata": {
      "needs_background": "light"
     },
     "output_type": "display_data"
    }
   ],
   "source": [
    "loss=history.history['loss']\n",
    "val_loss=history.history['val_loss']\n",
    "epochs=range(1,len(loss)+1)\n",
    "plt.figure()\n",
    "plt.plot(epochs,loss,'bo',label='training loss')\n",
    "plt.plot(epochs,val_loss,'b',label='validation loss')\n",
    "plt.title('training and validation loss')\n",
    "plt.legend()\n",
    "plt.show()"
   ]
  },
  {
   "cell_type": "code",
   "execution_count": 16,
   "metadata": {},
   "outputs": [],
   "source": [
    "import os\n",
    "data_dir=r'C:\\Users\\박정은\\Downloads\\006975\\datasets\\jena_climate'\n",
    "fname = os.path.join(data_dir, 'jena_climate_2009_2016.csv')\n",
    "\n",
    "f = open(fname)\n",
    "data = f.read()\n",
    "f.close()\n",
    "\n",
    "lines = data.split('\\n')\n",
    "header = lines[0].split(',')\n",
    "lines = lines[1:]"
   ]
  },
  {
   "cell_type": "code",
   "execution_count": 17,
   "metadata": {},
   "outputs": [],
   "source": [
    "import numpy as np\n",
    "float_data=np.zeros((len(lines),len(header)-1))\n",
    "for i,line in enumerate(lines):\n",
    "    values=[float(x) for x in line.split(',')[1:]]\n",
    "    float_data[i,:]=values"
   ]
  },
  {
   "cell_type": "code",
   "execution_count": 18,
   "metadata": {},
   "outputs": [],
   "source": [
    "mean = float_data[:200000].mean(axis=0)\n",
    "float_data -= mean\n",
    "std = float_data[:200000].std(axis=0)\n",
    "float_data /= std"
   ]
  },
  {
   "cell_type": "code",
   "execution_count": 19,
   "metadata": {},
   "outputs": [],
   "source": [
    "def generator(data, lookback, delay, min_index, max_index,\n",
    "              shuffle=False, batch_size=128, step=6):\n",
    "    if max_index is None:\n",
    "        max_index = len(data) - delay - 1\n",
    "    i = min_index + lookback\n",
    "    while 1:\n",
    "        if shuffle:\n",
    "            rows = np.random.randint(\n",
    "                min_index + lookback, max_index, size=batch_size)\n",
    "        else:\n",
    "            if i + batch_size >= max_index:\n",
    "                i = min_index + lookback\n",
    "            rows = np.arange(i, min(i + batch_size, max_index))\n",
    "            i += len(rows)\n",
    "\n",
    "        samples = np.zeros((len(rows),\n",
    "                           lookback // step,\n",
    "                           data.shape[-1]))\n",
    "        targets = np.zeros((len(rows),))\n",
    "        for j, row in enumerate(rows):\n",
    "            indices = range(rows[j] - lookback, rows[j], step)\n",
    "            samples[j] = data[indices]\n",
    "            targets[j] = data[rows[j] + delay][1]\n",
    "        yield samples, targets"
   ]
  },
  {
   "cell_type": "code",
   "execution_count": 20,
   "metadata": {},
   "outputs": [],
   "source": [
    "lookback=1440\n",
    "step=6\n",
    "delay=144\n",
    "batch_size=128\n",
    "train_gen=generator(float_data,lookback=lookback,delay=delay,min_index=0,max_index=200000,shuffle=True,step=step,batch_size=batch_size)\n",
    "val_gen=generator(float_data,lookback=lookback,delay=delay,min_index=200001,max_index=300000,shuffle=True,step=step,batch_size=batch_size)\n",
    "test_gen=generator(float_data,lookback=lookback,delay=delay,min_index=300001,max_index=None,shuffle=True,step=step,batch_size=batch_size)\n",
    "val_steps=(300000-200001-lookback)//batch_size\n",
    "test_steps=(len(float_data)-300001-lookback)//batch_size"
   ]
  },
  {
   "cell_type": "code",
   "execution_count": 21,
   "metadata": {},
   "outputs": [
    {
     "name": "stdout",
     "output_type": "stream",
     "text": [
      "Epoch 1/20\n",
      "500/500 [==============================] - 50s 101ms/step - loss: 0.4131 - acc: 0.0000e+00 - val_loss: 0.4681 - val_acc: 0.0000e+00\n",
      "Epoch 2/20\n",
      "500/500 [==============================] - 44s 89ms/step - loss: 0.3609 - acc: 0.0000e+00 - val_loss: 0.4154 - val_acc: 0.0000e+00\n",
      "Epoch 3/20\n",
      "500/500 [==============================] - 46s 92ms/step - loss: 0.3367 - acc: 0.0000e+00 - val_loss: 0.4190 - val_acc: 0.0000e+00\n",
      "Epoch 4/20\n",
      "500/500 [==============================] - 43s 86ms/step - loss: 0.3232 - acc: 0.0000e+00 - val_loss: 0.4369 - val_acc: 0.0000e+00\n",
      "Epoch 5/20\n",
      "500/500 [==============================] - 46s 93ms/step - loss: 0.3095 - acc: 0.0000e+00 - val_loss: 0.4571 - val_acc: 0.0000e+00\n",
      "Epoch 6/20\n",
      "500/500 [==============================] - 47s 93ms/step - loss: 0.3016 - acc: 0.0000e+00 - val_loss: 0.4957 - val_acc: 0.0000e+00\n",
      "Epoch 7/20\n",
      "500/500 [==============================] - 49s 98ms/step - loss: 0.2916 - acc: 0.0000e+00 - val_loss: 0.4248 - val_acc: 0.0000e+00\n",
      "Epoch 8/20\n",
      "500/500 [==============================] - 47s 95ms/step - loss: 0.2865 - acc: 0.0000e+00 - val_loss: 0.4785 - val_acc: 0.0000e+00\n",
      "Epoch 9/20\n",
      "500/500 [==============================] - 45s 91ms/step - loss: 0.2801 - acc: 0.0000e+00 - val_loss: 0.4655 - val_acc: 0.0000e+00\n",
      "Epoch 10/20\n",
      "500/500 [==============================] - 45s 91ms/step - loss: 0.2779 - acc: 0.0000e+00 - val_loss: 0.4336 - val_acc: 0.0000e+00\n",
      "Epoch 11/20\n",
      "500/500 [==============================] - 46s 93ms/step - loss: 0.2708 - acc: 0.0000e+00 - val_loss: 0.4216 - val_acc: 0.0000e+00\n",
      "Epoch 12/20\n",
      "500/500 [==============================] - 48s 96ms/step - loss: 0.2669 - acc: 0.0000e+00 - val_loss: 0.4764 - val_acc: 0.0000e+00\n",
      "Epoch 13/20\n",
      "500/500 [==============================] - 51s 103ms/step - loss: 0.2624 - acc: 0.0000e+00 - val_loss: 0.4609 - val_acc: 0.0000e+00\n",
      "Epoch 14/20\n",
      "500/500 [==============================] - 46s 92ms/step - loss: 0.2594 - acc: 0.0000e+00 - val_loss: 0.4627 - val_acc: 0.0000e+00\n",
      "Epoch 15/20\n",
      "500/500 [==============================] - 50s 100ms/step - loss: 0.2584 - acc: 0.0000e+00 - val_loss: 0.4756 - val_acc: 0.0000e+00\n",
      "Epoch 16/20\n",
      "500/500 [==============================] - 48s 95ms/step - loss: 0.2546 - acc: 0.0000e+00 - val_loss: 0.4142 - val_acc: 0.0000e+00\n",
      "Epoch 17/20\n",
      "500/500 [==============================] - 55s 110ms/step - loss: 0.2501 - acc: 0.0000e+00 - val_loss: 0.4748 - val_acc: 0.0000e+00\n",
      "Epoch 18/20\n",
      "500/500 [==============================] - 48s 95ms/step - loss: 0.2495 - acc: 0.0000e+00 - val_loss: 0.4276 - val_acc: 0.0000e+00\n",
      "Epoch 19/20\n",
      "500/500 [==============================] - 46s 92ms/step - loss: 0.2466 - acc: 0.0000e+00 - val_loss: 0.4562 - val_acc: 0.0000e+00\n",
      "Epoch 20/20\n",
      "500/500 [==============================] - 49s 98ms/step - loss: 0.2430 - acc: 0.0000e+00 - val_loss: 0.4668 - val_acc: 0.0000e+00\n"
     ]
    }
   ],
   "source": [
    "model=Sequential()\n",
    "model.add(layers.Conv1D(32,5,activation='relu',input_shape=(None,float_data.shape[-1])))\n",
    "model.add(layers.MaxPooling1D(3))\n",
    "model.add(layers.Conv1D(32,5,activation='relu'))\n",
    "model.add(layers.MaxPooling1D(3))\n",
    "model.add(layers.Conv1D(32,5,activation='relu'))\n",
    "model.add(layers.GlobalMaxPooling1D())\n",
    "model.add(layers.Dense(1))\n",
    "\n",
    "model.compile(optimizer=RMSprop(),loss='mae',metrics=['acc'])\n",
    "histor=model.fit_generator(train_gen,steps_per_epoch=500,epochs=20,validation_data=val_gen,validation_steps=val_steps)"
   ]
  },
  {
   "cell_type": "code",
   "execution_count": 22,
   "metadata": {},
   "outputs": [
    {
     "data": {
      "image/png": "[encoded data removed]",
      "text/plain": [
       "<Figure size 432x288 with 1 Axes>"
      ]
     },
     "metadata": {
      "needs_background": "light"
     },
     "output_type": "display_data"
    }
   ],
   "source": [
    "loss=history.history['loss']\n",
    "val_loss=history.history['val_loss']\n",
    "epochs=range(1,len(loss)+1)\n",
    "plt.figure()\n",
    "plt.plot(epochs,loss,'bo',label='training loss')\n",
    "plt.plot(epochs,val_loss,'b',label='validation loss')\n",
    "plt.title('training and validation loss')\n",
    "plt.legend()\n",
    "plt.show()"
   ]
  },
  {
   "cell_type": "code",
   "execution_count": null,
   "metadata": {},
   "outputs": [],
   "source": []
  }
 ],
 "metadata": {
  "kernelspec": {
   "display_name": "Python 3",
   "language": "python",
   "name": "python3"
  },
  "language_info": {
   "codemirror_mode": {
    "name": "ipython",
    "version": 3
   },
   "file_extension": ".py",
   "mimetype": "text/x-python",
   "name": "python",
   "nbconvert_exporter": "python",
   "pygments_lexer": "ipython3",
   "version": "3.7.4"
  }
 },
 "nbformat": 4,
 "nbformat_minor": 2
}
