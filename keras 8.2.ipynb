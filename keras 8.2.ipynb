{
 "cells": [
  {
   "cell_type": "code",
   "execution_count": 1,
   "metadata": {},
   "outputs": [
    {
     "name": "stderr",
     "output_type": "stream",
     "text": [
      "Using TensorFlow backend.\n"
     ]
    }
   ],
   "source": [
    "from keras.applications import inception_v3\n",
    "from keras import backend as K"
   ]
  },
  {
   "cell_type": "code",
   "execution_count": 2,
   "metadata": {},
   "outputs": [
    {
     "name": "stdout",
     "output_type": "stream",
     "text": [
      "Downloading data from https://github.com/fchollet/deep-learning-models/releases/download/v0.5/inception_v3_weights_tf_dim_ordering_tf_kernels_notop.h5\n",
      "87916544/87910968 [==============================] - 705s 8us/step\n"
     ]
    }
   ],
   "source": [
    "K.set_learning_phase(0)\n",
    "model=inception_v3.InceptionV3(weights='imagenet',include_top=False)"
   ]
  },
  {
   "cell_type": "code",
   "execution_count": 3,
   "metadata": {},
   "outputs": [],
   "source": [
    "layer_contributions={'mixed2':0.2,'mixed3':3.,'mixed4':2.,'mixed5':1.5,}"
   ]
  },
  {
   "cell_type": "code",
   "execution_count": 6,
   "metadata": {},
   "outputs": [],
   "source": [
    "layer_dict = dict([(layer.name, layer) for layer in model.layers])\n",
    "loss = K.variable(0.)\n",
    "for layer_name in layer_contributions:\n",
    "    coeff = layer_contributions[layer_name]\n",
    "    activation = layer_dict[layer_name].output\n",
    "    scaling = K.prod(K.cast(K.shape(activation), 'float32'))\n",
    "    loss = loss+coeff * K.sum(K.square(activation[:, 2: -2, 2: -2, :])) / scaling"
   ]
  },
  {
   "cell_type": "code",
   "execution_count": 7,
   "metadata": {},
   "outputs": [],
   "source": [
    "dream=model.input\n",
    "grads=K.gradients(loss,dream)[0]\n",
    "grads/=K.maximum(K.mean(K.abs(grads)),1e-7)\n",
    "outputs=[loss,grads]\n",
    "fetch_loss_and_grads=K.function([dream],outputs)\n",
    "def eval_loss_and_grads(x):\n",
    "  outs=fetch_loss_and_grads([x])\n",
    "  loss_value=outs[0]\n",
    "  grads_values=outs[1]\n",
    "  return loss_value,grads_values\n",
    "def gradient_ascent(x,iterations,step,max_loss=None):\n",
    "  for i in range(iterations):\n",
    "    loss_value,grads_values=eval_loss_and_grads(x)\n",
    "    if max_loss is not None and loss_value>max_loss:\n",
    "      break;\n",
    "    print(i,'loss',loss_value)\n",
    "    x+=step*grads_values\n",
    "  return x"
   ]
  },
  {
   "cell_type": "code",
   "execution_count": 8,
   "metadata": {},
   "outputs": [],
   "source": [
    "import scipy\n",
    "from keras.preprocessing import image"
   ]
  },
  {
   "cell_type": "code",
   "execution_count": 20,
   "metadata": {},
   "outputs": [],
   "source": [
    "def resize_img(img,size):\n",
    "  img=np.copy(img)\n",
    "  factors=(1,float(size[0])/img.shape[1],float(size[1])/img.shape[2],1)\n",
    "  return scipy.ndimage.zoom(img,factors,order=1)\n",
    "\n",
    "def save_imgs(img, fname):\n",
    "    pil_img = deprocess_image(np.copy(img))\n",
    "    image.save_img(fname, pil_img)\n",
    "def preprocess_image(image_path):\n",
    "  img=image.load_img(image_path)\n",
    "  img=image.img_to_array(img)\n",
    "  img=np.expand_dims(img,axis=0)\n",
    "  img=inception_v3.preprocess_input(img)\n",
    "  return img\n",
    "def deprocess_image(x):\n",
    "    if K.image_data_format() == 'channels_first':\n",
    "        x = x.reshape((3, x.shape[2], x.shape[3]))\n",
    "        x = x.transpose((1, 2, 0))\n",
    "    else:\n",
    "        x = x.reshape((x.shape[1], x.shape[2], 3))\n",
    "    x /= 2.\n",
    "    x += 0.5\n",
    "    x *= 255.\n",
    "    x = np.clip(x, 0, 255).astype('uint8')\n",
    "    return x"
   ]
  },
  {
   "cell_type": "code",
   "execution_count": 22,
   "metadata": {},
   "outputs": [
    {
     "name": "stdout",
     "output_type": "stream",
     "text": [
      "size (178, 178)\n",
      "0 loss 0.65961766\n",
      "1 loss 1.0167829\n",
      "2 loss 1.4680848\n",
      "3 loss 2.0043151\n",
      "4 loss 2.608424\n",
      "5 loss 3.0937617\n",
      "6 loss 3.5753698\n",
      "7 loss 4.057526\n",
      "8 loss 4.4507847\n",
      "9 loss 4.888896\n",
      "10 loss 5.337751\n",
      "11 loss 5.773019\n",
      "12 loss 6.177859\n",
      "13 loss 6.5435257\n",
      "14 loss 6.962656\n",
      "15 loss 7.3771544\n",
      "16 loss 7.7456737\n",
      "17 loss 8.149124\n",
      "18 loss 8.544074\n",
      "19 loss 8.879556\n",
      "size (250, 250)\n",
      "0 loss 2.1796741\n",
      "1 loss 3.5691357\n",
      "2 loss 4.625678\n",
      "3 loss 5.541784\n",
      "4 loss 6.442739\n",
      "5 loss 7.228117\n",
      "6 loss 7.912153\n",
      "7 loss 8.624628\n",
      "8 loss 9.325433\n",
      "9 loss 9.958045\n",
      "size (350, 350)\n",
      "0 loss 2.3517466\n",
      "1 loss 3.4891381\n",
      "2 loss 4.574066\n",
      "3 loss 5.5842443\n",
      "4 loss 6.603441\n",
      "5 loss 7.6351595\n",
      "6 loss 8.924164\n"
     ]
    }
   ],
   "source": [
    "import numpy as np\n",
    "step=0.01\n",
    "num_octave=3\n",
    "octave_scale=1.4\n",
    "iterations=20\n",
    "max_loss=10.\n",
    "\n",
    "base_image_path=r'D:\\keras\\original_photo_deep_dream.jpg'\n",
    "img=preprocess_image(base_image_path)\n",
    "original_shape=img.shape[1:3]\n",
    "sucessive_shapes=[original_shape]\n",
    "for i in range(1,num_octave):\n",
    "  shape=tuple([int(dim/(octave_scale**i)) for dim in original_shape])\n",
    "  sucessive_shapes.append(shape)\n",
    "sucessive_shapes=sucessive_shapes[::-1]\n",
    "original_img=np.copy(img)\n",
    "shrunk_original_img=resize_img(img,sucessive_shapes[0])\n",
    "for shape in sucessive_shapes:\n",
    "  print(\"size\",shape)\n",
    "  img=resize_img(img,shape)\n",
    "  img=gradient_ascent(img,iterations=iterations,step=step,max_loss=max_loss)\n",
    "  upscaled_shrunk_original_img=resize_img(shrunk_original_img,shape)\n",
    "  same_size_original=resize_img(original_img,shape)\n",
    "  lost_detail=same_size_original-upscaled_shrunk_original_img\n",
    "  img+=lost_detail\n",
    "  shrunk_original_img=resize_img(original_img,shape)\n",
    "  save_imgs(img,fname='dream_at_scale'+str(shape)+'.png')\n",
    "\n",
    "save_imgs(img,fname=r'D:\\keras\\final_dream.png')"
   ]
  },
  {
   "cell_type": "code",
   "execution_count": null,
   "metadata": {},
   "outputs": [],
   "source": []
  }
 ],
 "metadata": {
  "kernelspec": {
   "display_name": "Python 3",
   "language": "python",
   "name": "python3"
  },
  "language_info": {
   "codemirror_mode": {
    "name": "ipython",
    "version": 3
   },
   "file_extension": ".py",
   "mimetype": "text/x-python",
   "name": "python",
   "nbconvert_exporter": "python",
   "pygments_lexer": "ipython3",
   "version": "3.7.4"
  }
 },
 "nbformat": 4,
 "nbformat_minor": 2
}
