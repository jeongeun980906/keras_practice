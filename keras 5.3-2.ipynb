{
 "cells": [
  {
   "cell_type": "code",
   "execution_count": 1,
   "metadata": {},
   "outputs": [
    {
     "name": "stderr",
     "output_type": "stream",
     "text": [
      "Using TensorFlow backend.\n"
     ]
    }
   ],
   "source": [
    "from keras.applications import VGG16"
   ]
  },
  {
   "cell_type": "code",
   "execution_count": 2,
   "metadata": {},
   "outputs": [],
   "source": [
    "conv_base=VGG16(weights='imagenet',include_top=False,input_shape=(150,150,3))"
   ]
  },
  {
   "cell_type": "code",
   "execution_count": 3,
   "metadata": {},
   "outputs": [],
   "source": [
    "from keras.preprocessing.image import ImageDataGenerator\n",
    "from keras import optimizers"
   ]
  },
  {
   "cell_type": "code",
   "execution_count": 4,
   "metadata": {},
   "outputs": [],
   "source": [
    "train_datagen=ImageDataGenerator(rescale=1./255,rotation_range=20,width_shift_range=0.1,height_shift_range=0.1,shear_range=0.1,zoom_range=0.1,horizontal_flip=True,fill_mode='nearest')"
   ]
  },
  {
   "cell_type": "code",
   "execution_count": 5,
   "metadata": {},
   "outputs": [],
   "source": [
    "test_datagen=ImageDataGenerator(rescale=1./255)"
   ]
  },
  {
   "cell_type": "code",
   "execution_count": 6,
   "metadata": {},
   "outputs": [],
   "source": [
    "import os"
   ]
  },
  {
   "cell_type": "code",
   "execution_count": 7,
   "metadata": {},
   "outputs": [],
   "source": [
    "base_dir=r'C:\\Users\\박정은\\OneDrive - 고려대학교\\삽질\\파이썬\\data'\n",
    "train_dir=os.path.join(base_dir,'train')\n",
    "validation_dir=os.path.join(base_dir,'validation')\n",
    "test_dir=os.path.join(base_dir,'test')"
   ]
  },
  {
   "cell_type": "code",
   "execution_count": 8,
   "metadata": {},
   "outputs": [
    {
     "name": "stdout",
     "output_type": "stream",
     "text": [
      "Found 2000 images belonging to 2 classes.\n",
      "Found 1000 images belonging to 2 classes.\n"
     ]
    }
   ],
   "source": [
    "train_generator=train_datagen.flow_from_directory(train_dir,target_size=(150,150),batch_size=20,class_mode='binary')\n",
    "validation_generator=test_datagen.flow_from_directory(validation_dir,target_size=(150,150),batch_size=20,class_mode='binary')"
   ]
  },
  {
   "cell_type": "code",
   "execution_count": 9,
   "metadata": {},
   "outputs": [],
   "source": [
    "from keras import layers\n",
    "from keras import models"
   ]
  },
  {
   "cell_type": "code",
   "execution_count": 10,
   "metadata": {},
   "outputs": [],
   "source": [
    "model=models.Sequential()\n",
    "model.add(conv_base)\n",
    "model.add(layers.Flatten())\n",
    "model.add(layers.Dense(256,activation='relu'))\n",
    "model.add(layers.Dense(1,activation='sigmoid'))"
   ]
  },
  {
   "cell_type": "code",
   "execution_count": 11,
   "metadata": {},
   "outputs": [],
   "source": [
    "model.compile(loss='binary_crossentropy',optimizer=optimizers.RMSprop(lr=2e-5),metrics=['acc'])"
   ]
  },
  {
   "cell_type": "code",
   "execution_count": 12,
   "metadata": {},
   "outputs": [
    {
     "name": "stdout",
     "output_type": "stream",
     "text": [
      "Epoch 1/30\n",
      "100/100 [==============================] - 1539s 15s/step - loss: 0.3511 - acc: 0.8415 - val_loss: 0.1327 - val_acc: 0.9110\n",
      "Epoch 2/30\n",
      "100/100 [==============================] - 1501s 15s/step - loss: 0.1837 - acc: 0.9200 - val_loss: 0.2148 - val_acc: 0.9270\n",
      "Epoch 3/30\n",
      "100/100 [==============================] - 1294s 13s/step - loss: 0.1348 - acc: 0.9465 - val_loss: 0.0693 - val_acc: 0.9660\n",
      "Epoch 4/30\n",
      "100/100 [==============================] - 1273s 13s/step - loss: 0.1098 - acc: 0.9570 - val_loss: 0.2224 - val_acc: 0.9630\n",
      "Epoch 5/30\n",
      "100/100 [==============================] - 1324s 13s/step - loss: 0.0903 - acc: 0.9675 - val_loss: 0.0577 - val_acc: 0.9510\n",
      "Epoch 6/30\n",
      "100/100 [==============================] - 1303s 13s/step - loss: 0.0557 - acc: 0.9800 - val_loss: 0.1177 - val_acc: 0.9540\n",
      "Epoch 7/30\n",
      "100/100 [==============================] - 1312s 13s/step - loss: 0.0869 - acc: 0.9770 - val_loss: 0.0288 - val_acc: 0.9520\n",
      "Epoch 8/30\n",
      "100/100 [==============================] - 1304s 13s/step - loss: 0.0372 - acc: 0.9870 - val_loss: 0.1153 - val_acc: 0.9510\n",
      "Epoch 9/30\n",
      "100/100 [==============================] - 1292s 13s/step - loss: 0.0424 - acc: 0.9880 - val_loss: 0.3748 - val_acc: 0.9650\n",
      "Epoch 10/30\n",
      "100/100 [==============================] - 1373s 14s/step - loss: 0.0355 - acc: 0.9850 - val_loss: 0.0107 - val_acc: 0.9610\n",
      "Epoch 11/30\n",
      "100/100 [==============================] - 1382s 14s/step - loss: 0.0267 - acc: 0.9905 - val_loss: 0.0537 - val_acc: 0.9690\n",
      "Epoch 12/30\n",
      "100/100 [==============================] - 1339s 13s/step - loss: 0.0458 - acc: 0.9845 - val_loss: 0.1522 - val_acc: 0.9680\n",
      "Epoch 13/30\n",
      "100/100 [==============================] - 1266s 13s/step - loss: 0.0225 - acc: 0.9925 - val_loss: 0.0110 - val_acc: 0.9710\n",
      "Epoch 14/30\n",
      "100/100 [==============================] - 1276s 13s/step - loss: 0.0273 - acc: 0.9900 - val_loss: 0.1387 - val_acc: 0.9550\n",
      "Epoch 15/30\n",
      "100/100 [==============================] - 1284s 13s/step - loss: 0.0224 - acc: 0.9910 - val_loss: 0.1743 - val_acc: 0.9340\n",
      "Epoch 16/30\n",
      "100/100 [==============================] - 1281s 13s/step - loss: 0.0142 - acc: 0.9925 - val_loss: 0.0056 - val_acc: 0.9600\n",
      "Epoch 17/30\n",
      "100/100 [==============================] - 1289s 13s/step - loss: 0.0170 - acc: 0.9940 - val_loss: 0.2736 - val_acc: 0.9660\n",
      "Epoch 18/30\n",
      "100/100 [==============================] - 1310s 13s/step - loss: 0.0203 - acc: 0.9935 - val_loss: 0.0956 - val_acc: 0.9640\n",
      "Epoch 19/30\n",
      "100/100 [==============================] - 1344s 13s/step - loss: 0.0195 - acc: 0.9935 - val_loss: 0.0093 - val_acc: 0.9710\n",
      "Epoch 20/30\n",
      "100/100 [==============================] - 1377s 14s/step - loss: 0.0135 - acc: 0.9965 - val_loss: 1.8240e-05 - val_acc: 0.9580\n",
      "Epoch 21/30\n",
      "100/100 [==============================] - 1379s 14s/step - loss: 0.0269 - acc: 0.9915 - val_loss: 3.2402e-04 - val_acc: 0.9680\n",
      "Epoch 22/30\n",
      "100/100 [==============================] - 1295s 13s/step - loss: 0.0330 - acc: 0.9920 - val_loss: 0.3382 - val_acc: 0.9720\n",
      "Epoch 23/30\n",
      "100/100 [==============================] - 1285s 13s/step - loss: 0.0242 - acc: 0.9955 - val_loss: 0.0072 - val_acc: 0.9670\n",
      "Epoch 24/30\n",
      "100/100 [==============================] - 1297s 13s/step - loss: 0.0100 - acc: 0.9965 - val_loss: 0.8986 - val_acc: 0.9720\n",
      "Epoch 25/30\n",
      "100/100 [==============================] - 1294s 13s/step - loss: 0.0149 - acc: 0.9950 - val_loss: 0.0015 - val_acc: 0.9720\n",
      "Epoch 26/30\n",
      "100/100 [==============================] - 1285s 13s/step - loss: 0.0061 - acc: 0.9970 - val_loss: 0.0010 - val_acc: 0.9730\n",
      "Epoch 27/30\n",
      "100/100 [==============================] - 1303s 13s/step - loss: 0.0246 - acc: 0.9940 - val_loss: 0.2105 - val_acc: 0.9710\n",
      "Epoch 28/30\n",
      "100/100 [==============================] - 1305s 13s/step - loss: 0.0184 - acc: 0.9970 - val_loss: 0.9954 - val_acc: 0.9640\n",
      "Epoch 29/30\n",
      "100/100 [==============================] - 1328s 13s/step - loss: 0.0081 - acc: 0.9975 - val_loss: 0.4343 - val_acc: 0.9620\n",
      "Epoch 30/30\n",
      "100/100 [==============================] - 1318s 13s/step - loss: 0.0054 - acc: 0.9980 - val_loss: 0.0370 - val_acc: 0.9620\n"
     ]
    }
   ],
   "source": [
    "history=model.fit_generator(train_generator,steps_per_epoch=100,epochs=30,validation_data=validation_generator,validation_steps=50)"
   ]
  },
  {
   "cell_type": "code",
   "execution_count": null,
   "metadata": {},
   "outputs": [],
   "source": [
    "import matplotlib.pyplot as plt"
   ]
  },
  {
   "cell_type": "code",
   "execution_count": null,
   "metadata": {},
   "outputs": [],
   "source": [
    "acc=history.history['acc']\n",
    "val_acc=history.history['val_acc']\n",
    "loss=history.history['loss']\n",
    "val_loss=history.history['val_loss']\n",
    "epochs=range(1,len(acc)+1)\n",
    "plt.figure()\n",
    "plt.plot(epochs,acc,'bo',label='training acc')\n",
    "plt.plot(epochs,val_acc,'b',label='validation loss')\n",
    "plt.title('training and validation acc')\n",
    "plt.legend()\n",
    "plt.show()"
   ]
  },
  {
   "cell_type": "code",
   "execution_count": null,
   "metadata": {},
   "outputs": [],
   "source": []
  }
 ],
 "metadata": {
  "kernelspec": {
   "display_name": "Python 3",
   "language": "python",
   "name": "python3"
  },
  "language_info": {
   "codemirror_mode": {
    "name": "ipython",
    "version": 3
   },
   "file_extension": ".py",
   "mimetype": "text/x-python",
   "name": "python",
   "nbconvert_exporter": "python",
   "pygments_lexer": "ipython3",
   "version": "3.7.4"
  }
 },
 "nbformat": 4,
 "nbformat_minor": 2
}
