{
 "cells": [
  {
   "cell_type": "code",
   "execution_count": 37,
   "metadata": {},
   "outputs": [
    {
     "name": "stdout",
     "output_type": "stream",
     "text": [
      "['\"Date Time\"', '\"p (mbar)\"', '\"T (degC)\"', '\"Tpot (K)\"', '\"Tdew (degC)\"', '\"rh (%)\"', '\"VPmax (mbar)\"', '\"VPact (mbar)\"', '\"VPdef (mbar)\"', '\"sh (g/kg)\"', '\"H2OC (mmol/mol)\"', '\"rho (g/m**3)\"', '\"wv (m/s)\"', '\"max. wv (m/s)\"', '\"wd (deg)\"']\n",
      "420551\n"
     ]
    }
   ],
   "source": [
    "import os\n",
    "data_dir=r'C:\\Users\\박정은\\Downloads\\006975\\datasets\\jena_climate'\n",
    "fname = os.path.join(data_dir, 'jena_climate_2009_2016.csv')\n",
    "\n",
    "f = open(fname)\n",
    "data = f.read()\n",
    "f.close()\n",
    "\n",
    "lines = data.split('\\n')\n",
    "header = lines[0].split(',')\n",
    "lines = lines[1:]\n",
    "\n",
    "print(header)\n",
    "print(len(lines))"
   ]
  },
  {
   "cell_type": "code",
   "execution_count": 40,
   "metadata": {},
   "outputs": [],
   "source": [
    "import numpy as np\n",
    "float_data=np.zeros((len(lines),len(header)-1))\n",
    "for i,line in enumerate(lines):\n",
    "    values=[float(x) for x in line.split(',')[1:]]\n",
    "    float_data[i,:]=values"
   ]
  },
  {
   "cell_type": "code",
   "execution_count": 41,
   "metadata": {},
   "outputs": [],
   "source": [
    "mean = float_data[:200000].mean(axis=0)\n",
    "float_data -= mean\n",
    "std = float_data[:200000].std(axis=0)\n",
    "float_data /= std"
   ]
  },
  {
   "cell_type": "code",
   "execution_count": 42,
   "metadata": {},
   "outputs": [],
   "source": [
    "def generator(data, lookback, delay, min_index, max_index,\n",
    "              shuffle=False, batch_size=128, step=6):\n",
    "    if max_index is None:\n",
    "        max_index = len(data) - delay - 1\n",
    "    i = min_index + lookback\n",
    "    while 1:\n",
    "        if shuffle:\n",
    "            rows = np.random.randint(\n",
    "                min_index + lookback, max_index, size=batch_size)\n",
    "        else:\n",
    "            if i + batch_size >= max_index:\n",
    "                i = min_index + lookback\n",
    "            rows = np.arange(i, min(i + batch_size, max_index))\n",
    "            i += len(rows)\n",
    "\n",
    "        samples = np.zeros((len(rows),\n",
    "                           lookback // step,\n",
    "                           data.shape[-1]))\n",
    "        targets = np.zeros((len(rows),))\n",
    "        for j, row in enumerate(rows):\n",
    "            indices = range(rows[j] - lookback, rows[j], step)\n",
    "            samples[j] = data[indices]\n",
    "            targets[j] = data[rows[j] + delay][1]\n",
    "        yield samples, targets"
   ]
  },
  {
   "cell_type": "code",
   "execution_count": 43,
   "metadata": {},
   "outputs": [],
   "source": [
    "lookback=1440\n",
    "step=6\n",
    "delay=144\n",
    "batch_size=128\n",
    "train_gen=generator(float_data,lookback=lookback,delay=delay,min_index=0,max_index=200000,shuffle=True,step=step,batch_size=batch_size)\n",
    "val_gen=generator(float_data,lookback=lookback,delay=delay,min_index=200001,max_index=300000,shuffle=True,step=step,batch_size=batch_size)\n",
    "test_gen=generator(float_data,lookback=lookback,delay=delay,min_index=300001,max_index=None,shuffle=True,step=step,batch_size=batch_size)\n",
    "val_steps=(300000-200001-lookback)//batch_size\n",
    "test_steps=(len(float_data)-300001-lookback)//batch_size"
   ]
  },
  {
   "cell_type": "code",
   "execution_count": 44,
   "metadata": {},
   "outputs": [
    {
     "name": "stdout",
     "output_type": "stream",
     "text": [
      "Epoch 1/20\n",
      "500/500 [==============================] - 19s 39ms/step - loss: 1.1027 - val_loss: 0.4412\n",
      "Epoch 2/20\n",
      "500/500 [==============================] - 20s 39ms/step - loss: 0.3567 - val_loss: 0.3338\n",
      "Epoch 3/20\n",
      "500/500 [==============================] - 19s 37ms/step - loss: 0.2819 - val_loss: 0.3460\n",
      "Epoch 4/20\n",
      "500/500 [==============================] - 19s 38ms/step - loss: 0.2628 - val_loss: 0.3372\n",
      "Epoch 5/20\n",
      "500/500 [==============================] - 19s 38ms/step - loss: 0.2529 - val_loss: 0.3002\n",
      "Epoch 6/20\n",
      "500/500 [==============================] - 19s 39ms/step - loss: 0.2448 - val_loss: 0.3166\n",
      "Epoch 7/20\n",
      "500/500 [==============================] - 20s 40ms/step - loss: 0.2373 - val_loss: 0.2918\n",
      "Epoch 8/20\n",
      "500/500 [==============================] - 20s 40ms/step - loss: 0.2309 - val_loss: 0.3411\n",
      "Epoch 9/20\n",
      "500/500 [==============================] - 20s 39ms/step - loss: 0.2269 - val_loss: 0.3004\n",
      "Epoch 10/20\n",
      "500/500 [==============================] - 19s 38ms/step - loss: 0.2229 - val_loss: 0.3106\n",
      "Epoch 11/20\n",
      "500/500 [==============================] - 18s 37ms/step - loss: 0.2215 - val_loss: 0.3342- loss: 0.22 - ET\n",
      "Epoch 12/20\n",
      "500/500 [==============================] - 19s 39ms/step - loss: 0.2155 - val_loss: 0.3471\n",
      "Epoch 13/20\n",
      "500/500 [==============================] - 19s 38ms/step - loss: 0.2135 - val_loss: 0.3475\n",
      "Epoch 14/20\n",
      "500/500 [==============================] - 19s 38ms/step - loss: 0.2109 - val_loss: 0.3495\n",
      "Epoch 15/20\n",
      "500/500 [==============================] - 19s 38ms/step - loss: 0.2096 - val_loss: 0.3275\n",
      "Epoch 16/20\n",
      "500/500 [==============================] - 18s 37ms/step - loss: 0.2071 - val_loss: 0.3602\n",
      "Epoch 17/20\n",
      "500/500 [==============================] - 18s 37ms/step - loss: 0.2058 - val_loss: 0.3842\n",
      "Epoch 18/20\n",
      "500/500 [==============================] - 19s 38ms/step - loss: 0.2036 - val_loss: 0.3399\n",
      "Epoch 19/20\n",
      "500/500 [==============================] - 19s 39ms/step - loss: 0.2019 - val_loss: 0.3258\n",
      "Epoch 20/20\n",
      "500/500 [==============================] - 20s 41ms/step - loss: 0.1999 - val_loss: 0.3429\n"
     ]
    }
   ],
   "source": [
    "from keras.models import Sequential\n",
    "from keras import layers\n",
    "from keras.optimizers import RMSprop\n",
    "\n",
    "model = Sequential()\n",
    "model.add(layers.Flatten(input_shape=(lookback // step, float_data.shape[-1])))\n",
    "model.add(layers.Dense(32, activation='relu'))\n",
    "model.add(layers.Dense(1))\n",
    "\n",
    "model.compile(optimizer=RMSprop(), loss='mae')\n",
    "history = model.fit_generator(train_gen,\n",
    "                              steps_per_epoch=500,\n",
    "                              epochs=20,\n",
    "                              validation_data=val_gen,\n",
    "                              validation_steps=val_steps)"
   ]
  },
  {
   "cell_type": "code",
   "execution_count": 45,
   "metadata": {},
   "outputs": [],
   "source": [
    "import matplotlib.pyplot as plt"
   ]
  },
  {
   "cell_type": "code",
   "execution_count": 46,
   "metadata": {},
   "outputs": [
    {
     "data": {
      "image/png": "[encoded data removed]",
      "text/plain": [
       "<Figure size 432x288 with 1 Axes>"
      ]
     },
     "metadata": {
      "needs_background": "light"
     },
     "output_type": "display_data"
    }
   ],
   "source": [
    "loss=history.history['loss']\n",
    "val_loss=history.history['val_loss']\n",
    "epochs=range(1,len(loss)+1)\n",
    "plt.figure()\n",
    "plt.plot(epochs,loss,'bo',label='training loss')\n",
    "plt.plot(epochs,val_loss,'b',label='validation loss')\n",
    "plt.title('training and validation loss')\n",
    "plt.legend()\n",
    "plt.show()"
   ]
  },
  {
   "cell_type": "markdown",
   "metadata": {},
   "source": [
    "6.3.5. GRU"
   ]
  },
  {
   "cell_type": "code",
   "execution_count": 47,
   "metadata": {},
   "outputs": [
    {
     "name": "stdout",
     "output_type": "stream",
     "text": [
      "Epoch 1/20\n",
      "500/500 [==============================] - 143s 287ms/step - loss: 0.3013 - val_loss: 0.2943\n",
      "Epoch 2/20\n",
      "500/500 [==============================] - 144s 288ms/step - loss: 0.2824 - val_loss: 0.2576\n",
      "Epoch 3/20\n",
      "500/500 [==============================] - 141s 283ms/step - loss: 0.2773 - val_loss: 0.2545\n",
      "Epoch 4/20\n",
      "500/500 [==============================] - 140s 280ms/step - loss: 0.2713 - val_loss: 0.2737\n",
      "Epoch 5/20\n",
      "500/500 [==============================] - 143s 287ms/step - loss: 0.2663 - val_loss: 0.3049\n",
      "Epoch 6/20\n",
      "500/500 [==============================] - 139s 277ms/step - loss: 0.2652 - val_loss: 0.2859\n",
      "Epoch 7/20\n",
      "500/500 [==============================] - 139s 278ms/step - loss: 0.2599 - val_loss: 0.2499\n",
      "Epoch 8/20\n",
      "500/500 [==============================] - 140s 279ms/step - loss: 0.2571 - val_loss: 0.2991\n",
      "Epoch 9/20\n",
      "500/500 [==============================] - 140s 280ms/step - loss: 0.2518 - val_loss: 0.2640\n",
      "Epoch 10/20\n",
      "500/500 [==============================] - 139s 277ms/step - loss: 0.2474 - val_loss: 0.2801\n",
      "Epoch 11/20\n",
      "500/500 [==============================] - 139s 278ms/step - loss: 0.2441 - val_loss: 0.2360\n",
      "Epoch 12/20\n",
      "500/500 [==============================] - 140s 280ms/step - loss: 0.2380 - val_loss: 0.2804\n",
      "Epoch 13/20\n",
      "500/500 [==============================] - 147s 295ms/step - loss: 0.2340 - val_loss: 0.3102\n",
      "Epoch 14/20\n",
      "500/500 [==============================] - 141s 281ms/step - loss: 0.2302 - val_loss: 0.3443\n",
      "Epoch 15/20\n",
      "500/500 [==============================] - 138s 276ms/step - loss: 0.2271 - val_loss: 0.2871\n",
      "Epoch 16/20\n",
      "500/500 [==============================] - 144s 287ms/step - loss: 0.2226 - val_loss: 0.2965\n",
      "Epoch 17/20\n",
      "500/500 [==============================] - 138s 276ms/step - loss: 0.2195 - val_loss: 0.3003\n",
      "Epoch 18/20\n",
      "500/500 [==============================] - 138s 277ms/step - loss: 0.2148 - val_loss: 0.3046\n",
      "Epoch 19/20\n",
      "500/500 [==============================] - 141s 281ms/step - loss: 0.2126 - val_loss: 0.3048\n",
      "Epoch 20/20\n",
      "500/500 [==============================] - 140s 280ms/step - loss: 0.2106 - val_loss: 0.3137\n"
     ]
    }
   ],
   "source": [
    "model=Sequential()\n",
    "model.add(layers.GRU(32,input_shape=(None,float_data.shape[-1])))\n",
    "model.add(layers.Dense(1))\n",
    "model.compile(optimizer=RMSprop(),loss='mae')\n",
    "history=model.fit_generator(train_gen,steps_per_epoch=500,epochs=20,validation_data=val_gen,validation_steps=val_steps)"
   ]
  },
  {
   "cell_type": "code",
   "execution_count": 48,
   "metadata": {},
   "outputs": [
    {
     "data": {
      "image/png": "[encoded data removed]",
      "text/plain": [
       "<Figure size 432x288 with 1 Axes>"
      ]
     },
     "metadata": {
      "needs_background": "light"
     },
     "output_type": "display_data"
    }
   ],
   "source": [
    "loss=history.history['loss']\n",
    "val_loss=history.history['val_loss']\n",
    "epochs=range(1,len(loss)+1)\n",
    "plt.figure()\n",
    "plt.plot(epochs,loss,'bo',label='training loss')\n",
    "plt.plot(epochs,val_loss,'b',label='validation loss')\n",
    "plt.title('training and validation loss')\n",
    "plt.legend()\n",
    "plt.show()"
   ]
  },
  {
   "cell_type": "markdown",
   "metadata": {},
   "source": [
    "6.3.6 Dropout"
   ]
  },
  {
   "cell_type": "code",
   "execution_count": 49,
   "metadata": {},
   "outputs": [
    {
     "name": "stdout",
     "output_type": "stream",
     "text": [
      "Epoch 1/40\n",
      "500/500 [==============================] - 143s 286ms/step - loss: nan - val_loss: nan\n",
      "Epoch 2/40\n",
      "500/500 [==============================] - 143s 286ms/step - loss: nan - val_loss: nan\n",
      "Epoch 3/40\n",
      "500/500 [==============================] - 142s 283ms/step - loss: nan - val_loss: nan\n",
      "Epoch 4/40\n",
      "500/500 [==============================] - 142s 283ms/step - loss: nan - val_loss: nan\n",
      "Epoch 5/40\n",
      "500/500 [==============================] - 142s 284ms/step - loss: nan - val_loss: nan\n",
      "Epoch 6/40\n",
      "500/500 [==============================] - 142s 284ms/step - loss: nan - val_loss: nan\n",
      "Epoch 7/40\n",
      "500/500 [==============================] - 142s 284ms/step - loss: nan - val_loss: nan\n",
      "Epoch 8/40\n",
      "500/500 [==============================] - 142s 284ms/step - loss: nan - val_loss: nan\n",
      "Epoch 9/40\n",
      "500/500 [==============================] - 142s 283ms/step - loss: nan - val_loss: nan\n",
      "Epoch 10/40\n",
      "500/500 [==============================] - 141s 282ms/step - loss: nan - val_loss: nan\n",
      "Epoch 11/40\n",
      "500/500 [==============================] - 142s 284ms/step - loss: nan - val_loss: nan\n",
      "Epoch 12/40\n",
      "500/500 [==============================] - 146s 292ms/step - loss: nan - val_loss: nan\n",
      "Epoch 13/40\n",
      "500/500 [==============================] - 142s 284ms/step - loss: nan - val_loss: nan\n",
      "Epoch 14/40\n",
      "500/500 [==============================] - 141s 282ms/step - loss: nan - val_loss: nan\n",
      "Epoch 15/40\n",
      "500/500 [==============================] - 143s 285ms/step - loss: nan - val_loss: nan\n",
      "Epoch 16/40\n",
      "500/500 [==============================] - 143s 285ms/step - loss: nan - val_loss: nan\n",
      "Epoch 17/40\n",
      "500/500 [==============================] - 142s 283ms/step - loss: nan - val_loss: nan\n",
      "Epoch 18/40\n",
      "500/500 [==============================] - 141s 283ms/step - loss: nan - val_loss: nan\n",
      "Epoch 19/40\n",
      "500/500 [==============================] - 143s 286ms/step - loss: nan - val_loss: nan\n",
      "Epoch 20/40\n",
      "500/500 [==============================] - 142s 283ms/step - loss: nan - val_loss: nan\n",
      "Epoch 21/40\n",
      "500/500 [==============================] - 142s 283ms/step - loss: nan - val_loss: nan\n",
      "Epoch 22/40\n",
      "500/500 [==============================] - 141s 283ms/step - loss: nan - val_loss: nan\n",
      "Epoch 23/40\n",
      "500/500 [==============================] - 142s 283ms/step - loss: nan - val_loss: nan\n",
      "Epoch 24/40\n",
      "500/500 [==============================] - 143s 286ms/step - loss: nan - val_loss: nan\n",
      "Epoch 25/40\n",
      "500/500 [==============================] - 140s 280ms/step - loss: nan - val_loss: nan\n",
      "Epoch 26/40\n",
      "500/500 [==============================] - 140s 280ms/step - loss: nan - val_loss: nan\n",
      "Epoch 27/40\n",
      "500/500 [==============================] - 141s 281ms/step - loss: nan - val_loss: nan\n",
      "Epoch 28/40\n",
      "500/500 [==============================] - 140s 280ms/step - loss: nan - val_loss: nan\n",
      "Epoch 29/40\n",
      "500/500 [==============================] - 139s 279ms/step - loss: nan - val_loss: nan\n",
      "Epoch 30/40\n",
      "500/500 [==============================] - 140s 281ms/step - loss: nan - val_loss: nan\n",
      "Epoch 31/40\n",
      "500/500 [==============================] - 140s 281ms/step - loss: nan - val_loss: nan\n",
      "Epoch 32/40\n",
      "500/500 [==============================] - 140s 281ms/step - loss: nan - val_loss: nan\n",
      "Epoch 33/40\n",
      "500/500 [==============================] - 142s 284ms/step - loss: nan - val_loss: nan\n",
      "Epoch 34/40\n",
      "500/500 [==============================] - 140s 281ms/step - loss: nan - val_loss: nan\n",
      "Epoch 35/40\n",
      "500/500 [==============================] - 143s 285ms/step - loss: nan - val_loss: nan\n",
      "Epoch 36/40\n",
      "500/500 [==============================] - 151s 302ms/step - loss: nan - val_loss: nan\n",
      "Epoch 37/40\n",
      "500/500 [==============================] - 141s 282ms/step - loss: nan - val_loss: nan\n",
      "Epoch 38/40\n",
      "500/500 [==============================] - 141s 282ms/step - loss: nan - val_loss: nan\n",
      "Epoch 39/40\n",
      "500/500 [==============================] - 139s 279ms/step - loss: nan - val_loss: nan\n",
      "Epoch 40/40\n",
      "500/500 [==============================] - 138s 275ms/step - loss: nan - val_loss: nan\n"
     ]
    }
   ],
   "source": [
    "model=Sequential()\n",
    "model.add(layers.GRU(32,dropout=0.2,recurrent_dropout=0.2,input_shape=(None,float_data.shape[-1])))\n",
    "model.add(layers.Dense(1))\n",
    "model.compile(optimizer=RMSprop(),loss='mae')\n",
    "history=model.fit_generator(train_gen,steps_per_epoch=500,epochs=40,validation_data=val_gen,validation_steps=val_steps)"
   ]
  },
  {
   "cell_type": "code",
   "execution_count": 50,
   "metadata": {},
   "outputs": [
    {
     "data": {
      "image/png": "[encoded data removed]",
      "text/plain": [
       "<Figure size 432x288 with 1 Axes>"
      ]
     },
     "metadata": {
      "needs_background": "light"
     },
     "output_type": "display_data"
    }
   ],
   "source": [
    "loss=history.history['loss']\n",
    "val_loss=history.history['val_loss']\n",
    "epochs=range(1,len(loss)+1)\n",
    "plt.figure()\n",
    "plt.plot(epochs,loss,'bo',label='training loss')\n",
    "plt.plot(epochs,val_loss,'b',label='validation loss')\n",
    "plt.title('training and validation loss')\n",
    "plt.legend()\n",
    "plt.show()"
   ]
  },
  {
   "cell_type": "markdown",
   "metadata": {},
   "source": [
    "6.3.7. 순환층"
   ]
  },
  {
   "cell_type": "code",
   "execution_count": null,
   "metadata": {},
   "outputs": [
    {
     "name": "stdout",
     "output_type": "stream",
     "text": [
      "Epoch 1/40\n",
      "500/500 [==============================] - 407s 814ms/step - loss: nan - val_loss: nan\n",
      "Epoch 2/40\n",
      "500/500 [==============================] - 416s 833ms/step - loss: nan - val_loss: nan\n",
      "Epoch 3/40\n",
      "500/500 [==============================] - 403s 807ms/step - loss: nan - val_loss: nan\n",
      "Epoch 4/40\n",
      "500/500 [==============================] - 403s 805ms/step - loss: nan - val_loss: nan\n",
      "Epoch 5/40\n",
      "500/500 [==============================] - 401s 802ms/step - loss: nan - val_loss: nan\n",
      "Epoch 6/40\n",
      "500/500 [==============================] - 403s 806ms/step - loss: nan - val_loss: nan\n",
      "Epoch 7/40\n",
      "500/500 [==============================] - 401s 803ms/step - loss: nan - val_loss: nan\n",
      "Epoch 8/40\n",
      "500/500 [==============================] - 401s 803ms/step - loss: nan - val_loss: nan\n",
      "Epoch 9/40\n",
      "500/500 [==============================] - 402s 803ms/step - loss: nan - val_loss: nan\n",
      "Epoch 10/40\n",
      "500/500 [==============================] - 404s 809ms/step - loss: nan - val_loss: nan\n",
      "Epoch 11/40\n",
      " 86/500 [====>.........................] - ETA: 4:18 - loss: nan"
     ]
    }
   ],
   "source": [
    "model=Sequential()\n",
    "model.add(layers.GRU(32,dropout=0.1,recurrent_dropout=0.5,return_sequences=True,input_shape=(None,float_data.shape[-1])))\n",
    "model.add(layers.GRU(64,activation='relu',dropout=0.1,recurrent_dropout=0.5))\n",
    "model.add(layers.Dense(1))\n",
    "model.compile(optimizer=RMSprop(),loss='mae')\n",
    "history=model.fit_generator(train_gen,steps_per_epoch=500,epochs=40,validation_data=val_gen,validation_steps=val_steps)"
   ]
  },
  {
   "cell_type": "code",
   "execution_count": null,
   "metadata": {},
   "outputs": [],
   "source": [
    "loss=history.history['loss']\n",
    "val_loss=history.history['val_loss']\n",
    "epochs=range(1,len(loss)+1)\n",
    "plt.figure()\n",
    "plt.plot(epochs,loss,'bo',label='training loss')\n",
    "plt.plot(epochs,val_loss,'b',label='validation loss')\n",
    "plt.title('training and validation loss')\n",
    "plt.legend()\n",
    "plt.show()"
   ]
  },
  {
   "cell_type": "markdown",
   "metadata": {},
   "source": [
    "6.3.8. 양방향 RNN"
   ]
  },
  {
   "cell_type": "code",
   "execution_count": null,
   "metadata": {},
   "outputs": [],
   "source": [
    "from keras.datasets import imdb\n",
    "from keras.preprocessing import sequence\n",
    "max_features=10000\n",
    "maxlen=500\n",
    "(x_train,y_train),(x_test,y_test)=imdb.load_data(num_words=max_features)\n",
    "x_train=[x[x::-1] for x in x_train]\n",
    "x_test=[x[x::-1]for x in x_test]\n",
    "x_train=sequence.pad_sequences(x_train,maxlen=maxlen)\n",
    "x_test=sequence.pad_sequences(x_test,maxlen=maxlen)"
   ]
  },
  {
   "cell_type": "code",
   "execution_count": null,
   "metadata": {},
   "outputs": [],
   "source": [
    "model=Sequential()\n",
    "model.add(layers.Embedding(max_features,32))\n",
    "model.add(layers.Bidirectional(layers.LSTM(32)))\n",
    "model.add(layers.Dense(1,activation='sigmoid'))\n",
    "model.compile(optimizers='rmsprop',loss='binary_crossentropy',metrics=['acc'])\n",
    "history=model.fit(x_train,y_train,epochs=10,batch_size=128,validation_split=0.2)"
   ]
  },
  {
   "cell_type": "code",
   "execution_count": null,
   "metadata": {},
   "outputs": [],
   "source": []
  }
 ],
 "metadata": {
  "kernelspec": {
   "display_name": "Python 3",
   "language": "python",
   "name": "python3"
  },
  "language_info": {
   "codemirror_mode": {
    "name": "ipython",
    "version": 3
   },
   "file_extension": ".py",
   "mimetype": "text/x-python",
   "name": "python",
   "nbconvert_exporter": "python",
   "pygments_lexer": "ipython3",
   "version": "3.7.4"
  }
 },
 "nbformat": 4,
 "nbformat_minor": 2
}
