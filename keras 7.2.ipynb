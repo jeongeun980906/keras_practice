{
 "cells": [
  {
   "cell_type": "code",
   "execution_count": 1,
   "metadata": {},
   "outputs": [
    {
     "name": "stderr",
     "output_type": "stream",
     "text": [
      "Using TensorFlow backend.\n"
     ]
    }
   ],
   "source": [
    "import keras\n",
    "from keras import layers\n",
    "from keras.datasets import imdb\n",
    "from keras.preprocessing import sequence\n",
    "max_features=2000\n",
    "max_len=500"
   ]
  },
  {
   "cell_type": "code",
   "execution_count": 6,
   "metadata": {},
   "outputs": [
    {
     "name": "stdout",
     "output_type": "stream",
     "text": [
      "Model: \"sequential_2\"\n",
      "_________________________________________________________________\n",
      "Layer (type)                 Output Shape              Param #   \n",
      "=================================================================\n",
      "embed (Embedding)            (None, 500, 128)          256000    \n",
      "_________________________________________________________________\n",
      "conv1d_3 (Conv1D)            (None, 494, 32)           28704     \n",
      "_________________________________________________________________\n",
      "max_pooling1d_3 (MaxPooling1 (None, 98, 32)            0         \n",
      "_________________________________________________________________\n",
      "conv1d_4 (Conv1D)            (None, 92, 32)            7200      \n",
      "_________________________________________________________________\n",
      "global_max_pooling1d_1 (Glob (None, 32)                0         \n",
      "_________________________________________________________________\n",
      "dense_1 (Dense)              (None, 1)                 33        \n",
      "=================================================================\n",
      "Total params: 291,937\n",
      "Trainable params: 291,937\n",
      "Non-trainable params: 0\n",
      "_________________________________________________________________\n"
     ]
    }
   ],
   "source": [
    "(x_train,y_train),(x_test,y_test)=imdb.load_data(num_words=max_features)\n",
    "x_train=sequence.pad_sequences(x_train,maxlen=max_len)\n",
    "x_test=sequence.pad_sequences(x_test,maxlen=max_len)\n",
    "model=keras.models.Sequential()\n",
    "model.add(layers.Embedding(max_features,128,input_length=max_len,name='embed'))\n",
    "model.add(layers.Conv1D(32,7,activation='relu'))\n",
    "model.add(layers.MaxPooling1D(5))\n",
    "model.add(layers.Conv1D(32,7,activation='relu'))\n",
    "model.add(layers.GlobalMaxPooling1D())\n",
    "model.add(layers.Dense(1))\n",
    "model.summary()\n",
    "model.compile(optimizer='rmsprop',loss='binary_crossentropy',metrics=['acc'])"
   ]
  },
  {
   "cell_type": "code",
   "execution_count": 7,
   "metadata": {
    "scrolled": true
   },
   "outputs": [
    {
     "name": "stderr",
     "output_type": "stream",
     "text": [
      "D:\\anaconda\\lib\\site-packages\\tensorflow_core\\python\\framework\\indexed_slices.py:424: UserWarning: Converting sparse IndexedSlices to a dense Tensor of unknown shape. This may consume a large amount of memory.\n",
      "  \"Converting sparse IndexedSlices to a dense Tensor of unknown shape. \"\n"
     ]
    },
    {
     "name": "stdout",
     "output_type": "stream",
     "text": [
      "Train on 20000 samples, validate on 5000 samples\n",
      "Epoch 1/20\n",
      "20000/20000 [==============================] - 69s 3ms/step - loss: 0.6617 - acc: 0.6210 - val_loss: 0.4172 - val_acc: 0.8338\n",
      "Epoch 2/20\n",
      "20000/20000 [==============================] - 71s 4ms/step - loss: 0.4600 - acc: 0.8067 - val_loss: 0.4465 - val_acc: 0.8190\n",
      "Epoch 3/20\n",
      "20000/20000 [==============================] - 61s 3ms/step - loss: 0.3980 - acc: 0.7831 - val_loss: 0.4943 - val_acc: 0.7734\n",
      "Epoch 4/20\n",
      "20000/20000 [==============================] - 59s 3ms/step - loss: 0.3529 - acc: 0.7577 - val_loss: 0.5339 - val_acc: 0.7320\n",
      "Epoch 5/20\n",
      "20000/20000 [==============================] - 59s 3ms/step - loss: 0.3143 - acc: 0.7110 - val_loss: 0.5768 - val_acc: 0.6868\n",
      "Epoch 6/20\n",
      "20000/20000 [==============================] - 57s 3ms/step - loss: 0.2689 - acc: 0.6950 - val_loss: 0.6352 - val_acc: 0.6214\n",
      "Epoch 7/20\n",
      "20000/20000 [==============================] - 58s 3ms/step - loss: 0.2319 - acc: 0.6197 - val_loss: 0.9423 - val_acc: 0.4700\n",
      "Epoch 8/20\n",
      "20000/20000 [==============================] - 59s 3ms/step - loss: 0.1940 - acc: 0.5565 - val_loss: 0.8211 - val_acc: 0.4714\n",
      "Epoch 9/20\n",
      "20000/20000 [==============================] - 67s 3ms/step - loss: 0.1617 - acc: 0.4851 - val_loss: 0.8958 - val_acc: 0.4080\n",
      "Epoch 10/20\n",
      "20000/20000 [==============================] - 65s 3ms/step - loss: 0.1440 - acc: 0.4151 - val_loss: 0.9753 - val_acc: 0.3548\n",
      "Epoch 11/20\n",
      "20000/20000 [==============================] - 70s 3ms/step - loss: 0.1259 - acc: 0.3691 - val_loss: 1.0419 - val_acc: 0.3200\n",
      "Epoch 12/20\n",
      "20000/20000 [==============================] - 59s 3ms/step - loss: 0.1172 - acc: 0.2948 - val_loss: 1.0752 - val_acc: 0.2906\n",
      "Epoch 13/20\n",
      "20000/20000 [==============================] - 62s 3ms/step - loss: 0.1139 - acc: 0.2519 - val_loss: 1.0988 - val_acc: 0.2736\n",
      "Epoch 14/20\n",
      "20000/20000 [==============================] - 61s 3ms/step - loss: 0.1145 - acc: 0.2227 - val_loss: 1.1616 - val_acc: 0.2670\n",
      "Epoch 15/20\n",
      "20000/20000 [==============================] - 62s 3ms/step - loss: 0.1119 - acc: 0.2001 - val_loss: 1.1392 - val_acc: 0.2472\n",
      "Epoch 16/20\n",
      "20000/20000 [==============================] - 69s 3ms/step - loss: 0.1092 - acc: 0.1657 - val_loss: 1.3918 - val_acc: 0.2248\n",
      "Epoch 17/20\n",
      "20000/20000 [==============================] - 72s 4ms/step - loss: 0.1107 - acc: 0.1485 - val_loss: 1.3184 - val_acc: 0.2162\n",
      "Epoch 18/20\n",
      "20000/20000 [==============================] - 55s 3ms/step - loss: 0.1100 - acc: 0.1260 - val_loss: 1.2206 - val_acc: 0.2130\n",
      "Epoch 19/20\n",
      "20000/20000 [==============================] - 55s 3ms/step - loss: 0.1070 - acc: 0.1246 - val_loss: 1.2634 - val_acc: 0.2070\n",
      "Epoch 20/20\n",
      "20000/20000 [==============================] - 55s 3ms/step - loss: 0.1099 - acc: 0.1111 - val_loss: 1.2923 - val_acc: 0.2030\n"
     ]
    }
   ],
   "source": [
    "callbacks=[keras.callbacks.TensorBoard(log_dir=r'C:\\Users\\박정은\\OneDrive - 고려대학교\\삽질\\파이썬\\my_log_dir',histogram_freq=1,embeddings_freq=1,)]\n",
    "history=model.fit(x_train,y_train,epochs=20,batch_size=128,validation_split=0.2,callbacks=callbacks)"
   ]
  },
  {
   "cell_type": "code",
   "execution_count": null,
   "metadata": {},
   "outputs": [],
   "source": []
  }
 ],
 "metadata": {
  "kernelspec": {
   "display_name": "Python 3",
   "language": "python",
   "name": "python3"
  },
  "language_info": {
   "codemirror_mode": {
    "name": "ipython",
    "version": 3
   },
   "file_extension": ".py",
   "mimetype": "text/x-python",
   "name": "python",
   "nbconvert_exporter": "python",
   "pygments_lexer": "ipython3",
   "version": "3.7.4"
  }
 },
 "nbformat": 4,
 "nbformat_minor": 2
}
